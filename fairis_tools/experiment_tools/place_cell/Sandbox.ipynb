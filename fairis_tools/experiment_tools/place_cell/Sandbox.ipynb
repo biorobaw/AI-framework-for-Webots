{
 "cells": [
  {
   "cell_type": "code",
   "execution_count": 1,
   "id": "initial_id",
   "metadata": {
    "ExecuteTime": {
     "end_time": "2024-11-11T19:47:34.856139Z",
     "start_time": "2024-11-11T19:47:31.883105Z"
    }
   },
   "outputs": [
    {
     "name": "stdout",
     "output_type": "stream",
     "text": [
      "/Users/titonka/FAIRIS\n"
     ]
    }
   ],
   "source": [
    "import math\n",
    "import pickle\n",
    "import torch\n",
    "import torchvision.models as models\n",
    "import os\n",
    "import numpy as np\n",
    "from sklearn.cluster import KMeans, DBSCAN, AgglomerativeClustering, SpectralClustering, Birch\n",
    "import matplotlib.pyplot as plt\n",
    "from fairis_tools.experiment_tools.place_cell.PlaceCellLibrary import *\n",
    "\n",
    "os.chdir(\"../../..\")\n",
    "print(os.getcwd())"
   ]
  },
  {
   "cell_type": "code",
   "execution_count": 3,
   "id": "9c2c9e8c31a5ebf8",
   "metadata": {
    "collapsed": false,
    "ExecuteTime": {
     "end_time": "2024-11-11T19:49:39.236406Z",
     "start_time": "2024-11-11T19:49:38.850877Z"
    }
   },
   "outputs": [],
   "source": [
    "# with open(\"data/VisualPlaceCellData/VisualPlaceCellClusters/cnn_birch_centers\",'rb') as file:\n",
    "#     cluster_centers = pickle.load(file)\n",
    "with open(\"data/VisualPlaceCellData/LM8_1000\",'rb') as file:\n",
    "    data = pickle.load(file)"
   ]
  },
  {
   "cell_type": "code",
   "execution_count": 4,
   "outputs": [],
   "source": [
    "class VisiualPlaceCell:\n",
    "    def __init__(self, pc_id, center_point, sigma):\n",
    "        self.id = pc_id\n",
    "        self.center_point = center_point\n",
    "        self.sigma = sigma\n",
    "        self.activity = 0.0\n",
    "\n",
    "    def calculate_activation(self,robot_point):\n",
    "        distance = np.linalg.norm(self.center_point - robot_point)\n",
    "        self.activity = np.exp(-(distance**2) / (2*self.sigma**2))\n",
    "\n",
    "class VisualPlaceCellNetwork:\n",
    "    def __init__(self):\n",
    "        self.pc_network = None\n",
    "        self.pc_list = []\n",
    "        self.pc_coordinates = []\n",
    "\n",
    "    def add_pc_to_network(self, robot_point, radius=.1):\n",
    "        pc_id = len(self.pc_list)\n",
    "        self.pc_list.append(VisiualPlaceCell(pc_id, robot_point, radius))\n",
    "        self.pc_coordinates.append(robot_point)\n",
    "        self.pc_network = KDTree(self.pc_coordinates)\n",
    "\n",
    "    def get_num_active_pc(self, robot_point, search_radius=.5):\n",
    "        if self.pc_network is not None:\n",
    "            return self.pc_network.query_radius([robot_point], r=search_radius, count_only=True)[0]\n",
    "        else:\n",
    "            return 0\n",
    "\n",
    "    def calculate_single_pc_activation(self, pc, robot_point):\n",
    "        pc.calculate_activation(robot_point)\n",
    "\n",
    "    def activate_pc_network(self, robot_point):\n",
    "        # Standard approach\n",
    "        for pc in self.pc_list:\n",
    "            pc.calculate_activation(robot_point)\n",
    "        self.normilize_all_pc()\n",
    "    def get_total_pc_activation(self):\n",
    "        total_activation = 0\n",
    "        for pc in self.pc_list:\n",
    "            total_activation += pc.activity\n",
    "        return total_activation\n",
    "\n",
    "    def get_all_pc_activations_normalized(self, robot_point):\n",
    "        self.activate_pc_network(robot_point)\n",
    "        self.normilize_all_pc()\n",
    "        return np.array([pc.activity for pc in self.pc_list], dtype=np.float32)\n",
    "\n",
    "    def print_pc_activations(self):\n",
    "        for pc in self.pc_list:\n",
    "            print(pc.id, pc.activity)\n",
    "\n",
    "    def normilize_all_pc(self):\n",
    "        total_activation = self.get_total_pc_activation()\n",
    "        if total_activation == 0:\n",
    "            total_activation = 1\n",
    "        for pc in self.pc_list:\n",
    "            pc.activity = pc.activity / total_activation"
   ],
   "metadata": {
    "collapsed": false,
    "ExecuteTime": {
     "end_time": "2024-11-11T19:49:42.098304Z",
     "start_time": "2024-11-11T19:49:42.096095Z"
    }
   },
   "id": "ede7aa758edb2432"
  },
  {
   "cell_type": "code",
   "execution_count": 11,
   "outputs": [
    {
     "name": "stdout",
     "output_type": "stream",
     "text": [
      "124.47401961680684\n",
      "252.0800029871828\n",
      "250.13360636022009\n",
      "264.41820617483387\n",
      "206.83574438667097\n",
      "234.72117379927406\n",
      "203.78184123449935\n",
      "256.35670299610507\n",
      "258.9857113043994\n",
      "260.6521551872377\n",
      "232.08895616231612\n",
      "236.1542725502832\n",
      "259.66608339256607\n",
      "275.4338300842016\n",
      "228.72722846054396\n",
      "227.3412440427376\n",
      "213.40185773804095\n",
      "246.02069390104919\n"
     ]
    }
   ],
   "source": [
    "# pc_network = VisualPlaceCellNetwork()\n",
    "# for center in cluster_centers:\n",
    "#     print(center[1])\n",
    "#     pc_network.add_pc_to_network(center[0],radius = center[1])\n",
    "#     "
   ],
   "metadata": {
    "collapsed": false,
    "ExecuteTime": {
     "end_time": "2024-11-11T19:56:04.539466Z",
     "start_time": "2024-11-11T19:56:00.526474Z"
    }
   },
   "id": "185299d87859e947"
  },
  {
   "cell_type": "code",
   "execution_count": 6,
   "outputs": [],
   "source": [
    "# with open(\"data/GeneratedPCNetworks/VisualPlaceCells/cnn_birch_pc\",'wb') as file:\n",
    "#     pickle.dump(pc_network,file)"
   ],
   "metadata": {
    "collapsed": false,
    "ExecuteTime": {
     "end_time": "2024-11-11T19:50:15.594011Z",
     "start_time": "2024-11-11T19:50:15.306635Z"
    }
   },
   "id": "ee675048d423579b"
  },
  {
   "cell_type": "code",
   "execution_count": 7,
   "outputs": [],
   "source": [
    "def format_data_for_clustering(data):\n",
    "    multimodal_feature_vectors = []\n",
    "    cnn_feature_vectors = []\n",
    "    xy_list = []\n",
    "    theta_list = []\n",
    "    for observation in data.observations:\n",
    "        multimodal_feature_vectors.append(observation.multimodal_feature_vector)\n",
    "        cnn_feature_vectors.append(observation.cnn_feature_vector)\n",
    "        xy_list.append((observation.x, observation.y))\n",
    "        theta_list.append(observation.theta)\n",
    "\n",
    "    return multimodal_feature_vectors, cnn_feature_vectors, xy_list, theta_list\n"
   ],
   "metadata": {
    "collapsed": false,
    "ExecuteTime": {
     "end_time": "2024-11-11T19:51:01.033649Z",
     "start_time": "2024-11-11T19:51:01.020599Z"
    }
   },
   "id": "b57d286564650d44"
  },
  {
   "cell_type": "code",
   "execution_count": 8,
   "outputs": [],
   "source": [
    "with open(\"data/VisualPlaceCellData/LM8_1000\",'rb') as file:\n",
    "    visual_place_cell_data = pickle.load(file)\n",
    "\n",
    "multimodal_feature_vectors,cnn_feature_vectors,xy_list,theta_list = format_data_for_clustering(visual_place_cell_data)"
   ],
   "metadata": {
    "collapsed": false,
    "ExecuteTime": {
     "end_time": "2024-11-11T19:51:05.726504Z",
     "start_time": "2024-11-11T19:51:04.354325Z"
    }
   },
   "id": "941ccecd18ceefbb"
  },
  {
   "cell_type": "code",
   "execution_count": 9,
   "outputs": [],
   "source": [
    "import matplotlib.pyplot as plt\n",
    "from ipywidgets import interact, IntSlider\n",
    "\n",
    "def plot_place_cell_activity(index):\n",
    "    \"\"\"\n",
    "    Plot the x, y location of the data point and the corresponding place cell activations.\n",
    "    \n",
    "    Args:\n",
    "    - index (int): The index of the selected data point.\n",
    "    \"\"\"\n",
    "    # Get the x, y location of the selected data point\n",
    "    x, y = xy_list[index]\n",
    "    dx = 0.45 * np.cos(theta_list[index])\n",
    "    dy = 0.45 * np.sin(theta_list[index])\n",
    "    \n",
    "    \n",
    "    # Get the place cell activations for the selected data point\n",
    "    pc_network.activate_pc_network(cnn_feature_vectors[index][0])\n",
    "    activations = pc_network.get_all_pc_activations_normalized(cnn_feature_vectors[index][0])\n",
    "\n",
    "    # Create two subplots: one for x, y location and one for place cell activations\n",
    "    fig, ax = plt.subplots(1, 2, figsize=(14, 6))\n",
    "\n",
    "    # Plot the x, y location on the first subplot\n",
    "    ax[0].quiver(x, y, dx, dy, angles='xy', scale_units='xy', scale=1, color='r')\n",
    "    ax[0].scatter(x, y, color='blue', s=50, zorder=5)\n",
    "    ax[0].set_xlim(-3.5, 3.5)\n",
    "    ax[0].set_ylim(-3.5, 3.5)\n",
    "    ax[0].set_title(f\"x, y Location of Data Point {index}\")\n",
    "    ax[0].set_xlabel(\"X Coordinate\")\n",
    "    ax[0].set_ylabel(\"Y Coordinate\")\n",
    "\n",
    "    # Plot the place cell activations on the second subplot\n",
    "    ax[1].bar(range(18), activations, color='red')\n",
    "    ax[1].set_title(f\"Place Cell Activations for Data Point {index}\")\n",
    "    ax[1].set_xlabel(\"Place Cell\")\n",
    "    ax[1].set_xticks(range(18))\n",
    "    ax[1].set_xticklabels(range(18)) \n",
    "    ax[1].set_ylabel(\"Activation Level\")\n",
    "    \n",
    "    # Show the plots\n",
    "    plt.show()\n",
    "\n",
    "# Create an interactive slider for selecting the index of the data point\n",
    "# interact(plot_place_cell_activity, index=IntSlider(min=0, max=999, step=1, value=0))"
   ],
   "metadata": {
    "collapsed": false,
    "ExecuteTime": {
     "end_time": "2024-11-11T19:54:44.232978Z",
     "start_time": "2024-11-11T19:54:44.155798Z"
    }
   },
   "id": "290e9c89f3d8efc0"
  },
  {
   "cell_type": "code",
   "execution_count": 10,
   "outputs": [
    {
     "data": {
      "text/plain": "<Figure size 1400x600 with 2 Axes>",
      "image/png": "[encoded data removed]"
     },
     "metadata": {},
     "output_type": "display_data"
    }
   ],
   "source": [
    "plot_place_cell_activity(101)"
   ],
   "metadata": {
    "collapsed": false,
    "ExecuteTime": {
     "end_time": "2024-11-11T19:54:49.511372Z",
     "start_time": "2024-11-11T19:54:47.983772Z"
    }
   },
   "id": "d2f8b531d265a7cc"
  },
  {
   "cell_type": "code",
   "execution_count": 13,
   "outputs": [
    {
     "data": {
      "text/plain": "<Figure size 1400x600 with 2 Axes>",
      "image/png": "[encoded data removed]"
     },
     "metadata": {},
     "output_type": "display_data"
    }
   ],
   "source": [
    "from matplotlib.animation import FuncAnimation\n",
    "\n",
    "# Assuming pc_network, xy_list, and features are defined elsewhere\n",
    "n_samples = 100  # Number of data points\n",
    "n_place_cells = 18  # Number of place cells\n",
    "\n",
    "# Create the figure and axes for the animation\n",
    "fig, ax = plt.subplots(1, 2, figsize=(14, 6))\n",
    "\n",
    "# Initial plot settings\n",
    "ax[0].set_xlim(-3.5, 3.5)\n",
    "ax[0].set_ylim(-3.5, 3.5)\n",
    "ax[0].set_xlabel(\"X Coordinate\")\n",
    "ax[0].set_ylabel(\"Y Coordinate\")\n",
    "ax[0].set_title(\"x, y Location of Data Point\")\n",
    "\n",
    "ax[1].set_title(\"Place Cell Activations\")\n",
    "ax[1].set_xlabel(\"Place Cell\")\n",
    "ax[1].set_xticks(range(n_place_cells))\n",
    "ax[1].set_xlim(-0.5, n_place_cells - 0.5)  # Adjust x limits to avoid clipping\n",
    "ax[1].set_ylabel(\"Activation Level\")\n",
    "\n",
    "# Quiver (vector) and scatter (dot) for the location plot\n",
    "quiver = ax[0].quiver(0, 0, 0, 0, angles='xy', scale_units='xy', scale=1, color='r')  # Initialize with 0\n",
    "dot = ax[0].scatter(0, 0, color='blue', s=50, zorder=5)  # Initialize with 0\n",
    "\n",
    "# Bar plot for the place cell activations\n",
    "bars = ax[1].bar(range(n_place_cells), [0] * n_place_cells, color='red')\n",
    "\n",
    "# Function to initialize the plot (sets up the background for the animation)\n",
    "def init():\n",
    "    quiver.set_offsets([0, 0])  # Reset vector position with dummy coordinates\n",
    "    dot.set_offsets([0, 0])     # Reset dot position with dummy coordinates\n",
    "    for bar in bars:\n",
    "        bar.set_height(0)         # Reset the bar heights to 0\n",
    "    return quiver, dot, *bars\n",
    "\n",
    "# Function to update the plot for each frame (i.e., for each data point)\n",
    "def update(frame):\n",
    "    # Get the x, y location and orientation of the selected data point\n",
    "    x, y = xy_list[frame]\n",
    "    theta = math.radians(theta_list[frame])\n",
    "    dx = 0.8 * np.cos(theta)  # Increase the length of the vector to make it more visible\n",
    "    dy = 0.8 * np.sin(theta)\n",
    "    \n",
    "    # Get the place cell activations for the selected data point\n",
    "    pc_network.activate_pc_network(cnn_feature_vectors[frame])\n",
    "    activations = pc_network.get_all_pc_activations_normalized(cnn_feature_vectors[frame])\n",
    "\n",
    "    # Update the quiver (vector) and scatter (dot) for the x, y location\n",
    "    quiver.set_offsets([x, y])\n",
    "    quiver.set_UVC(dx, dy)\n",
    "    dot.set_offsets([x, y])\n",
    "\n",
    "    # Update the bar plot for place cell activations\n",
    "    for bar, activation in zip(bars, activations):\n",
    "        bar.set_height(activation)\n",
    "\n",
    "    # Adjust the y-axis limit of the bar plot to be slightly above the maximum activation\n",
    "    ax[1].set_ylim(0, .1) \n",
    "\n",
    "    return quiver, dot, *bars\n",
    "\n",
    "# Create the animation\n",
    "ani = FuncAnimation(fig, update, frames=range(n_samples), init_func=init, blit=True, repeat=False)\n",
    "\n",
    "# Save the animation as a movie (MP4 format)\n",
    "ani.save(\"data/videos/place_cell_activity_animation.mp4\", writer='ffmpeg', fps=2)\n"
   ],
   "metadata": {
    "collapsed": false,
    "ExecuteTime": {
     "end_time": "2024-11-11T20:05:58.580272Z",
     "start_time": "2024-11-11T20:04:05.892160Z"
    }
   },
   "id": "25b7f1ae35159a1d"
  },
  {
   "cell_type": "code",
   "execution_count": 1,
   "outputs": [
    {
     "name": "stdout",
     "output_type": "stream",
     "text": [
      "/Users/titonka/FAIRIS\n"
     ]
    }
   ],
   "source": [
    "import pickle\n",
    "import os\n",
    "import numpy as np\n",
    "from sklearn.cluster import KMeans, Birch\n",
    "from scipy.spatial.distance import cdist\n",
    "import matplotlib.pyplot as plt\n",
    "import math\n",
    "os.chdir(\"../../..\")\n",
    "print(os.getcwd())\n",
    "\n",
    "with open(\"data/VisualPlaceCellData/LM8_1000\",'rb') as file:\n",
    "    visual_place_cell_data = pickle.load(file)\n",
    "\n",
    "\n",
    "n_clusters = [10,20,100,500]  # You can change this based on how many clusters you expect\n",
    "\n",
    "# Function to plot clusters on the x, y plane\n",
    "def plot_clusters(xy_list, cluster_labels, name):\n",
    "    \"\"\"\n",
    "    Plot the clusters on the x, y plane using the original (x, y) coordinates, and save the figure.\n",
    "\n",
    "    Args:\n",
    "    - xy_list (list of tuples): The original x, y coordinates for each datapoint.\n",
    "    - cluster_labels (list of int): The cluster label for each datapoint.\n",
    "    - name (str): The filename to save the figure as (e.g., \"clusters_plot.png\").\n",
    "    \"\"\"\n",
    "    # Convert xy_list to NumPy arrays for easy plotting\n",
    "    x_coords = np.array([x for x, y in xy_list])\n",
    "    y_coords = np.array([y for x, y in xy_list])\n",
    "\n",
    "    # Check if the lengths match\n",
    "    if len(x_coords) != len(cluster_labels):\n",
    "        raise ValueError(f\"Mismatch: {len(x_coords)} coordinates and {len(cluster_labels)} cluster labels.\")\n",
    "\n",
    "    # Scatter plot with color coding for clusters\n",
    "    plt.figure(figsize=(8, 6))\n",
    "    scatter = plt.scatter(x_coords, y_coords, c=cluster_labels, cmap='rainbow', alpha=0.7)\n",
    "\n",
    "    # Add color bar to indicate clusters\n",
    "    plt.colorbar(scatter, label='Cluster')\n",
    "\n",
    "    # Add labels and title\n",
    "    plt.xlabel('X Coordinate')\n",
    "    plt.ylabel('Y Coordinate')\n",
    "    plt.title(f'Clustering with {len(set(cluster_labels))} Clusters on X-Y Plane')\n",
    "\n",
    "    # Save the plot to the specified file\n",
    "    plt.savefig(name)\n",
    "\n",
    "    # Close the plot to avoid displaying it when running in scripts\n",
    "    plt.close()\n",
    "\n",
    "\n",
    "def plot_clusters_by_subplots(xy_list, theta_list, cluster_labels, name, n_clusters=8):\n",
    "    \"\"\"\n",
    "    Plot the clusters on subplots, one for each cluster, using the original (x, y) coordinates\n",
    "    and their corresponding direction vectors.\n",
    "\n",
    "    Args:\n",
    "    - xy_list (list of tuples): The original x, y coordinates for each datapoint.\n",
    "    - theta_list (list of floats): The orientation (theta) in degrees for each datapoint.\n",
    "    - cluster_labels (list of int): The cluster label for each datapoint.\n",
    "    - name (str): The filename to save the plot.\n",
    "    - n_clusters (int): Number of clusters to plot.\n",
    "    \"\"\"\n",
    "    # Fixed number of columns\n",
    "    cols = 5\n",
    "    # Calculate the number of rows needed\n",
    "    rows = int(math.ceil(n_clusters / cols))\n",
    "\n",
    "    # Dynamically scale the figsize based on rows and columns\n",
    "    width_per_col = 6  # Adjust this for horizontal scaling\n",
    "    height_per_row = 6  # Adjust this for vertical scaling\n",
    "    figsize = (cols * width_per_col, rows * height_per_row)\n",
    "\n",
    "    # Convert xy_list to NumPy arrays for easy filtering and plotting\n",
    "    x_coords = np.array([x for x, y in xy_list])\n",
    "    y_coords = np.array([y for x, y in xy_list])\n",
    "    theta_list = np.array([theta for theta in theta_list])\n",
    "    # Create subplots\n",
    "    fig, axes = plt.subplots(rows, cols, figsize=figsize)\n",
    "    axes = axes.flatten()  # Flatten the axes array for easy indexing\n",
    "\n",
    "    for cluster_id in range(n_clusters):\n",
    "        # Get the indices of the datapoints that belong to the current cluster\n",
    "        cluster_indices = np.where(cluster_labels == cluster_id)[0]\n",
    "\n",
    "        # Filter x and y coordinates for the current cluster\n",
    "        cluster_x = x_coords[cluster_indices]\n",
    "        cluster_y = y_coords[cluster_indices]\n",
    "\n",
    "        # Extract theta values for the current cluster\n",
    "        cluster_theta = theta_list[cluster_indices]\n",
    "\n",
    "        # Compute dx and dy for each point in the current cluster\n",
    "        cluster_dx = 0.5 * np.cos(np.radians(cluster_theta))\n",
    "        cluster_dy = 0.5 * np.sin(np.radians(cluster_theta))\n",
    "\n",
    "        # Scatter plot for the current cluster\n",
    "        axes[cluster_id].scatter(cluster_x, cluster_y, c=f'C{cluster_id}', alpha=0.7, label='Points')\n",
    "\n",
    "        # Add quiver plot for vectors\n",
    "        axes[cluster_id].quiver(cluster_x, cluster_y, cluster_dx, cluster_dy, angles='xy', scale_units='xy', scale=1,\n",
    "                                color='black', alpha=0.7, label='Vectors')\n",
    "\n",
    "        # Set subplot title and labels\n",
    "        axes[cluster_id].set_title(f'Cluster {cluster_id}')\n",
    "        axes[cluster_id].set_xlabel('X Coordinate')\n",
    "        axes[cluster_id].set_ylabel('Y Coordinate')\n",
    "        axes[cluster_id].set_xlim(-3, 3)  # Set x-axis limits\n",
    "        axes[cluster_id].set_ylim(-3, 3)  # Set y-axis limits\n",
    "        axes[cluster_id].legend()\n",
    "\n",
    "    # Hide unused subplots (if n_clusters < len(axes))\n",
    "    for i in range(n_clusters, len(axes)):\n",
    "        axes[i].axis('off')\n",
    "\n",
    "    # Adjust layout for better spacing\n",
    "    plt.tight_layout()\n",
    "\n",
    "    # Save the plot to the specified file\n",
    "    fig.savefig(name)\n",
    "    plt.close()\n",
    "\n",
    "def format_data_for_clustering(data):\n",
    "    multimodal_feature_vectors = []\n",
    "    cnn_feature_vectors = []\n",
    "    xy_list = []\n",
    "    theta_list = []\n",
    "    for observation in data.observations:\n",
    "        multimodal_feature_vectors.append(observation.multimodal_feature_vector)\n",
    "        cnn_feature_vectors.append(observation.cnn_feature_vector)\n",
    "        xy_list.append((observation.x, observation.y))\n",
    "        theta_list.append(observation.theta)\n",
    "\n",
    "    return multimodal_feature_vectors, cnn_feature_vectors, xy_list, theta_list\n",
    "\n",
    "multimodal_feature_vectors,cnn_feature_vectors,xy_list,theta_list = format_data_for_clustering(visual_place_cell_data)\n",
    "def cluster_with_kmeans_and_save_centers(features_list, n_clusters, centers_save_path):\n",
    "    \"\"\"\n",
    "    Perform KMeans clustering, calculate the maximum distance for each cluster,\n",
    "    and save the cluster centers and max distances as a list of lists using pickle.\n",
    "\n",
    "    Args:\n",
    "    - features_list (list of numpy arrays): The feature vectors extracted from the images.\n",
    "    - n_clusters (int): The number of clusters to form.\n",
    "    - centers_save_path (str): Path to save the cluster centers and max distances using pickle.\n",
    "\n",
    "    Returns:\n",
    "    - cluster_labels (list of int): The cluster label for each datapoint.\n",
    "    - cluster_centers (numpy array): The centers of the final clusters.\n",
    "    \"\"\"\n",
    "    features_array = np.array(features_list)\n",
    "\n",
    "    # Perform KMeans clustering\n",
    "    kmeans = KMeans(n_clusters=n_clusters, random_state=42)\n",
    "    cluster_labels = kmeans.fit_predict(features_array)\n",
    "\n",
    "    # Get cluster centers and labels for each data point\n",
    "    cluster_centers = kmeans.cluster_centers_\n",
    "    labels = kmeans.labels_\n",
    "\n",
    "    # List to store [center, max_distance] for each cluster\n",
    "    cluster_data = []\n",
    "\n",
    "    # Calculate max distance for each cluster\n",
    "    for cluster_index in range(n_clusters):\n",
    "        # Get data points belonging to this cluster\n",
    "        cluster_points = features_array[labels == cluster_index]\n",
    "\n",
    "        # Calculate distances from each point to the cluster center\n",
    "        distances = cdist(cluster_points, [cluster_centers[cluster_index]], metric='euclidean').flatten()\n",
    "\n",
    "        # Find the maximum distance for this cluster\n",
    "        max_distance = distances.max()\n",
    "\n",
    "        # Append the center and max distance as a pair to cluster_data\n",
    "        cluster_data.append([cluster_centers[cluster_index].tolist(), max_distance])\n",
    "\n",
    "    # Save cluster_data (centers and max distances) using pickle\n",
    "    with open(centers_save_path, 'wb') as f:\n",
    "        pickle.dump(cluster_data, f)\n",
    "\n",
    "    return cluster_labels\n",
    "\n",
    "for n_cluster in n_clusters:\n",
    "\n",
    "    centers_save_path = \"data/VisualPlaceCellData/VisualPlaceCellClusters/multimodal_kmeans_\"+str(n_cluster)+\"centers\"\n",
    "    cluster_labels = cluster_with_kmeans_and_save_centers(multimodal_feature_vectors, n_cluster, centers_save_path)\n",
    "\n",
    "    # Now plot the clusters\n",
    "    plot_clusters_by_subplots(xy_list, theta_list, cluster_labels, \"data/figures/Clustering/multimodel_knn_\"+str(n_cluster)+\"clusters.png\", n_clusters=n_cluster)\n",
    "\n",
    "    centers_save_path = \"data/VisualPlaceCellData/VisualPlaceCellClusters/cnn_kmeans_\"+str(n_cluster)+\"centers\"\n",
    "    cluster_labels = cluster_with_kmeans_and_save_centers(cnn_feature_vectors, n_cluster, centers_save_path)\n",
    "\n",
    "    # Now plot the clusters\n",
    "    plot_clusters_by_subplots(xy_list, theta_list, cluster_labels, \"data/figures/Clustering/cnn_knn_\"+str(n_cluster)+\"clusters.png\", n_clusters=n_cluster)\n"
   ],
   "metadata": {
    "collapsed": false,
    "ExecuteTime": {
     "end_time": "2024-11-30T19:49:23.785479Z",
     "start_time": "2024-11-30T18:28:24.268580Z"
    }
   },
   "id": "f498496a0834cb53"
  }
 ],
 "metadata": {
  "kernelspec": {
   "name": "fairis_venv",
   "language": "python",
   "display_name": "fairis_venv"
  },
  "language_info": {
   "codemirror_mode": {
    "name": "ipython",
    "version": 3
   },
   "file_extension": ".py",
   "mimetype": "text/x-python",
   "name": "python",
   "nbconvert_exporter": "python",
   "pygments_lexer": "ipython3",
   "version": "3.11.9"
  }
 },
 "nbformat": 4,
 "nbformat_minor": 5
}
